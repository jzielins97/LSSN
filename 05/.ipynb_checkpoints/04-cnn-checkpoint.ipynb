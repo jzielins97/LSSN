{
 "cells": [
  {
   "cell_type": "code",
   "execution_count": 1,
   "metadata": {},
   "outputs": [
    {
     "name": "stdout",
     "output_type": "stream",
     "text": [
      "Populating the interactive namespace from numpy and matplotlib\n"
     ]
    }
   ],
   "source": [
    "%pylab inline"
   ]
  },
  {
   "cell_type": "code",
   "execution_count": 2,
   "metadata": {},
   "outputs": [],
   "source": [
    "from tensorflow.keras.datasets import mnist\n",
    "from tqdm import trange"
   ]
  },
  {
   "cell_type": "code",
   "execution_count": 3,
   "metadata": {},
   "outputs": [],
   "source": [
    "(x_train, y_train), (x_test, y_test) = mnist.load_data()"
   ]
  },
  {
   "cell_type": "code",
   "execution_count": 4,
   "metadata": {},
   "outputs": [],
   "source": [
    "x_train=x_train.astype('float64')/256 - 0.5\n",
    "x_test=x_test.astype('float64')/256 - 0.5"
   ]
  },
  {
   "cell_type": "code",
   "execution_count": 5,
   "metadata": {},
   "outputs": [],
   "source": [
    "poka = lambda x : imshow(x, cmap=cm.gist_gray_r)"
   ]
  },
  {
   "cell_type": "code",
   "execution_count": 6,
   "metadata": {},
   "outputs": [],
   "source": [
    "class Maxpool:\n",
    "    def __init__(self, n=2):\n",
    "        self.n=n\n",
    "    def forward(self, image):\n",
    "        self.image=image\n",
    "        w, h = image.shape\n",
    "        nw, nh = int(ceil(w/self.n)), int(ceil(h/self.n))\n",
    "        result=zeros(nw*nh)\n",
    "        k=0\n",
    "        for reg, i, j in self.nonoverlapping_regions(image, self.n):\n",
    "            result[k]=reg.max()\n",
    "            k+=1       \n",
    "        return result.reshape(nw, nh)\n",
    "    \n",
    "    def backward(self, diff):\n",
    "        result=zeros(self.image.shape)\n",
    "        for reg, i, j in self.nonoverlapping_regions(self.image, self.n):\n",
    "            maxval=amax(reg)\n",
    "            for mi in range(self.n):\n",
    "                for mj in range(self.n):\n",
    "                    if reg[mi,mj]==maxval:\n",
    "                        result[i+mi, j+mj]=diff[i//self.n, j//self.n]\n",
    "        return result\n",
    "        \n",
    "    def nonoverlapping_regions(self, image, n):\n",
    "        w, h = image.shape\n",
    "        for i in range(0,h,n):\n",
    "            for j in range(0,w,n):\n",
    "                yield image[i:i+n,j:j+n], i, j  "
   ]
  },
  {
   "cell_type": "code",
   "execution_count": 7,
   "metadata": {},
   "outputs": [],
   "source": [
    "class Conv:\n",
    "    def __init__(self, num_filters=4):\n",
    "        self.kernel_size=3\n",
    "        self.kernel_num=num_filters\n",
    "        self.filters=randn(self.kernel_num, self.kernel_size, self.kernel_size)/(self.kernel_size*self.kernel_size)\n",
    "        \n",
    "    def forward(self, image):\n",
    "        self.image=image\n",
    "        result=zeros((self.kernel_num, image.shape[0]-self.kernel_size+1, (image.shape[1]-self.kernel_size+1)))\n",
    "        for k in range(self.filters.shape[0]):\n",
    "            for reg, i, j in self.overlapping_regions(image, self.kernel_size):\n",
    "                result[k,i,j]=sum(reg*self.filters[k])\n",
    "        return result\n",
    "        \n",
    "    def overlapping_regions(self, image, n):\n",
    "        w, h = image.shape\n",
    "        for x in range(w-n+1):\n",
    "            for y in range(h-n+1):\n",
    "                yield image[x:x+n, y:y+n], x, y\n",
    "           \n",
    "                \n",
    "    def backward(self, diff, learn_rate):\n",
    "\n",
    "        dL_df = np.zeros(self.filters.shape)\n",
    "\n",
    "        for x, i, j in self.overlapping_regions(self.image, self.kernel_size):\n",
    "            for k in range(self.kernel_num):\n",
    "                dL_df[k] += diff[k, i, j] * x\n",
    "\n",
    "        self.filters -= learn_rate * dL_df\n",
    "\n",
    "        return None"
   ]
  },
  {
   "cell_type": "code",
   "execution_count": 56,
   "metadata": {},
   "outputs": [],
   "source": [
    "class Dense:\n",
    "\n",
    "    def __init__(self, inputs, outputs):\n",
    "        self.bias=randn(outputs)\n",
    "        self.w=randn(inputs, outputs)/inputs\n",
    "\n",
    "    def softmax(self, x):\n",
    "        x=exp(x)\n",
    "        x/=sum(x)\n",
    "        return x\n",
    "    \n",
    "    def forward(self, input):\n",
    "        self.input = input\n",
    "        self.h = input@self.w + self.bias\n",
    "        return self.softmax(self.h)\n",
    "    \n",
    "    def backward(self, dL_dp, learning_rate):\n",
    "        for j, grad in enumerate(dL_dp):\n",
    "            if(grad==0):\n",
    "                continue\n",
    "            h_exp=exp(self.h)\n",
    "            S=sum(h_exp)\n",
    "            dp_dh=-h_exp[j]*h_exp/(S*S)\n",
    "            dp_dh[j]=h_exp[j]*(S-h_exp[j])/(S*S)\n",
    "            \n",
    "            dh_dw=self.input\n",
    "            dh_db=1\n",
    "            dh_dx=self.w\n",
    "            \n",
    "            dL_dh = dL_dp * dp_dh\n",
    "            \n",
    "            dL_dw = outer(dh_dw, dL_dh)\n",
    "            self.w -= learning_rate*dL_dw\n",
    "            \n",
    "            dL_db = dL_dh*dh_db\n",
    "            self.bias -= learning_rate*dL_db\n",
    "            \n",
    "            dL_dx = dh_dx @ dL_dh\n",
    "            \n",
    "        return dL_dx       "
   ]
  },
  {
   "cell_type": "code",
   "execution_count": 57,
   "metadata": {},
   "outputs": [],
   "source": [
    "def forward(image):\n",
    "    x=conv.forward(image)\n",
    "    x=array([pool.forward(i) for i in x])\n",
    "    x=dense.forward(x.reshape(-1))       \n",
    "    return x"
   ]
  },
  {
   "cell_type": "code",
   "execution_count": 58,
   "metadata": {},
   "outputs": [],
   "source": [
    "def train(image, label, learning_rate):\n",
    "    x=forward(image)\n",
    "    L=-log(x[label])    \n",
    "    grad=zeros(10)\n",
    "    grad[label]=-1/x[label]\n",
    "    grad=dense.backward(grad, learning_rate)\n",
    "    grad=array([pool.backward(i) for i in grad.reshape(-1, 13, 13)])\n",
    "    conv.backward(grad, learning_rate)\n",
    "    return L"
   ]
  },
  {
   "cell_type": "code",
   "execution_count": 74,
   "metadata": {},
   "outputs": [],
   "source": [
    "conv=Conv(8)\n",
    "pool=Maxpool(2)\n",
    "dense=Dense(13*13*8, 10)"
   ]
  },
  {
   "cell_type": "code",
   "execution_count": 75,
   "metadata": {},
   "outputs": [],
   "source": [
    "N=10\n",
    "lr=0.005\n",
    "loss_history=[]"
   ]
  },
  {
   "cell_type": "code",
   "execution_count": 80,
   "metadata": {},
   "outputs": [
    {
     "name": "stderr",
     "output_type": "stream",
     "text": [
      "100%|██████████| 10/10 [00:11<00:00,  1.20s/it]\n"
     ]
    }
   ],
   "source": [
    "for epoch in trange(10):\n",
    "    loss=0    \n",
    "    for i in random.permutation(N):\n",
    "        loss+=train(x_train[i], y_train[i], lr)\n",
    "    loss_history.append(loss)    "
   ]
  },
  {
   "cell_type": "code",
   "execution_count": 81,
   "metadata": {},
   "outputs": [
    {
     "data": {
      "text/plain": [
       "[<matplotlib.lines.Line2D at 0x7f57058ba790>]"
      ]
     },
     "execution_count": 81,
     "metadata": {},
     "output_type": "execute_result"
    },
    {
     "data": {
      "image/png": "[encoded data removed]",
      "text/plain": [
       "<Figure size 432x288 with 1 Axes>"
      ]
     },
     "metadata": {
      "needs_background": "light"
     },
     "output_type": "display_data"
    }
   ],
   "source": [
    "plot(loss_history)"
   ]
  },
  {
   "cell_type": "code",
   "execution_count": 78,
   "metadata": {},
   "outputs": [
    {
     "name": "stdout",
     "output_type": "stream",
     "text": [
      "1.0\n"
     ]
    }
   ],
   "source": [
    "ok=0\n",
    "for i in range(N):\n",
    "    ok+=argmax(forward(x_train[i])) == y_train[i]\n",
    "print(ok/N)"
   ]
  },
  {
   "cell_type": "code",
   "execution_count": null,
   "metadata": {},
   "outputs": [],
   "source": []
  }
 ],
 "metadata": {
  "kernelspec": {
   "display_name": "Python 3",
   "language": "python",
   "name": "python3"
  },
  "language_info": {
   "codemirror_mode": {
    "name": "ipython",
    "version": 3
   },
   "file_extension": ".py",
   "mimetype": "text/x-python",
   "name": "python",
   "nbconvert_exporter": "python",
   "pygments_lexer": "ipython3",
   "version": "3.7.7"
  }
 },
 "nbformat": 4,
 "nbformat_minor": 4
}
