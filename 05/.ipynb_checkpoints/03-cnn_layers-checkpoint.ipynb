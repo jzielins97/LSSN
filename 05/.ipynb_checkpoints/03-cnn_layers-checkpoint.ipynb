{
 "cells": [
  {
   "cell_type": "code",
   "execution_count": null,
   "metadata": {},
   "outputs": [],
   "source": [
    "%pylab inline\n",
    "from tensorflow.keras.datasets import mnist\n",
    "from tqdm import trange"
   ]
  },
  {
   "cell_type": "code",
   "execution_count": null,
   "metadata": {},
   "outputs": [],
   "source": [
    "import pickle"
   ]
  },
  {
   "cell_type": "code",
   "execution_count": null,
   "metadata": {},
   "outputs": [],
   "source": [
    "poka = lambda x : imshow(x, cmap=cm.gist_gray_r)"
   ]
  },
  {
   "cell_type": "code",
   "execution_count": null,
   "metadata": {},
   "outputs": [],
   "source": [
    "(x_train, y_train), (x_test, y_test) = mnist.load_data()\n",
    "pat_num=100\n",
    "x_train=x_train.astype('float64')[:pat_num]\n",
    "y_train=y_train[:pat_num]\n",
    "x_test=x_test.astype('float64')"
   ]
  },
  {
   "cell_type": "code",
   "execution_count": null,
   "metadata": {},
   "outputs": [],
   "source": [
    "x_train.shape"
   ]
  },
  {
   "cell_type": "markdown",
   "metadata": {},
   "source": [
    "# CNN - ver. 0.1 (no backprop)"
   ]
  },
  {
   "cell_type": "code",
   "execution_count": null,
   "metadata": {},
   "outputs": [],
   "source": [
    "filters=array([\n",
    "    [\n",
    "        # krawędzie pionowe prawe\n",
    "        [-1,1,0],\n",
    "        [-1,1,0],\n",
    "        [-1,1,0]\n",
    "    ],\n",
    "    [\n",
    "        # krawędzie pionowe lewe\n",
    "        [1,-1,0],\n",
    "        [1,-1,0],\n",
    "        [1,-1,0]\n",
    "    ],\n",
    "    [\n",
    "        [-1, -1, -1],\n",
    "        [ 1,  1,  1],\n",
    "        [ 0,  0,  0]\n",
    "    ],\n",
    "    [\n",
    "        [ 1,  1,  1],\n",
    "        [-1, -1, -1],\n",
    "        [ 0,  0,  0]\n",
    "    ]\n",
    "])"
   ]
  },
  {
   "cell_type": "code",
   "execution_count": null,
   "metadata": {},
   "outputs": [],
   "source": [
    "def overlapping_regions(image, n):\n",
    "    w, h = image.shape\n",
    "    for x in range(w-n+1):\n",
    "        for y in range(h-n+1):\n",
    "            yield image[x:x+n, y:y+n], x, y\n",
    "\n",
    "def nonoverlapping_regions(image, n):\n",
    "    w, h = image.shape\n",
    "    for i in range(0,h,n):\n",
    "        for j in range(0,w,n):\n",
    "            yield image[i:i+n,j:j+n], i, j  "
   ]
  },
  {
   "cell_type": "code",
   "execution_count": null,
   "metadata": {},
   "outputs": [],
   "source": [
    "def conv(image, kernel):\n",
    "    n=kernel.shape[0]\n",
    "    w, h = image.shape\n",
    "    result=zeros((w-n+1, h-n+1))\n",
    "    for reg, i, j in overlapping_regions(image, n):\n",
    "        result[i,j]=sum(reg*kernel)\n",
    "    return result\n",
    "\n",
    "def relu(x):\n",
    "    return maximum(x,0)\n",
    "\n",
    "def maxpooling(image, n):\n",
    "    w, h = image.shape\n",
    "    nw, nh = int(ceil(w/n)), int(ceil(h/n))\n",
    "    result=zeros(nw*nh)\n",
    "    k=0\n",
    "    for reg, i, j in nonoverlapping_regions(image, n):\n",
    "        result[k]=reg.max()\n",
    "        k+=1       \n",
    "    return result.reshape(nw, nh)"
   ]
  },
  {
   "cell_type": "code",
   "execution_count": null,
   "metadata": {},
   "outputs": [],
   "source": [
    "def forward(im):\n",
    "    im = maxpooling(im,2)\n",
    "    c = array([relu(conv(im,f)) for f in filters])\n",
    "    c = array([maxpooling(im,2) for im in c])\n",
    "    c=c.flatten()\n",
    "    c /= c.max() \n",
    "    c -= 0.5\n",
    "    return c    "
   ]
  },
  {
   "cell_type": "code",
   "execution_count": null,
   "metadata": {},
   "outputs": [],
   "source": [
    "in_layer=[]\n",
    "for i in trange(pat_num):\n",
    "    im = x_train[i]\n",
    "    in_layer.append(forward(im))\n",
    "in_layer=array(in_layer)"
   ]
  },
  {
   "cell_type": "code",
   "execution_count": null,
   "metadata": {},
   "outputs": [],
   "source": [
    "in_layer.shape"
   ]
  },
  {
   "cell_type": "code",
   "execution_count": null,
   "metadata": {},
   "outputs": [],
   "source": [
    "# pickle.dump(in_layer, open('in_layer_10k.p', 'wb'))"
   ]
  },
  {
   "cell_type": "code",
   "execution_count": null,
   "metadata": {},
   "outputs": [],
   "source": [
    "class Dense:\n",
    "    def __init__(self, inputs, outputs):\n",
    "        self.s=zeros(outputs)\n",
    "        self.h=zeros(outputs)\n",
    "        self.bias=normal(0, 1, outputs)\n",
    "        self.w=normal(0, 1, (inputs, outputs))\n",
    "        \n",
    "    def f(self, x):\n",
    "        '''Activation function'''\n",
    "        return 1/(1+exp(-x))\n",
    "\n",
    "    def df(self, x):\n",
    "        '''Derivative of activation function'''\n",
    "        y=self.f(x)\n",
    "        return y*(1-y)\n",
    "\n",
    "    def forward(self, inp):\n",
    "        self.s=inp\n",
    "        self.h=self.s @ self.w + self.bias\n",
    "        return self.f(self.h)\n",
    "\n",
    "    \n",
    "    def backward(self, diff, learning_rate):\n",
    "        delta=self.df(self.h)*diff\n",
    "        self.w+=learning_rate * outer(self.s, delta)\n",
    "        self.bias+=learning_rate*delta\n",
    "        return self.w @ delta"
   ]
  },
  {
   "cell_type": "code",
   "execution_count": null,
   "metadata": {},
   "outputs": [],
   "source": [
    "class mlp:\n",
    "    def __init__(self):\n",
    "        self.l1=Dense(144, 50)\n",
    "        self.l2=Dense(50, 10)\n",
    "\n",
    "    def eval(self,x):\n",
    "        x=self.l1.forward(x)\n",
    "        x=self.l2.forward(x)\n",
    "        return self.softmax(x)\n",
    "        \n",
    "    def softmax(self, x):\n",
    "        x=exp(x)\n",
    "        x/=sum(x)        \n",
    "        return x\n",
    "        \n",
    "    def epoch(self, X, Y, learning_rate):\n",
    "        err=0\n",
    "        p_num=X.shape[0]\n",
    "        for p in random.permutation(p_num):\n",
    "            x=self.l1.forward(X[p])\n",
    "            x=self.l2.forward(x)\n",
    "            diff=eye(10)[Y[p]]-x\n",
    "            d=self.l2.backward(diff, learning_rate)\n",
    "            self.l1.backward(d, learning_rate)        \n",
    "            err+=sum(diff*diff)/2\n",
    "        return err"
   ]
  },
  {
   "cell_type": "code",
   "execution_count": null,
   "metadata": {},
   "outputs": [],
   "source": [
    "m=mlp()\n",
    "hist=[]"
   ]
  },
  {
   "cell_type": "code",
   "execution_count": null,
   "metadata": {},
   "outputs": [],
   "source": [
    "eta=0.1\n",
    "for epoch in trange(500):\n",
    "    hist.append(m.epoch(in_layer, y_train, eta))\n",
    "print(hist[-1]) "
   ]
  },
  {
   "cell_type": "code",
   "execution_count": null,
   "metadata": {},
   "outputs": [],
   "source": [
    "plot(hist)"
   ]
  },
  {
   "cell_type": "code",
   "execution_count": null,
   "metadata": {},
   "outputs": [],
   "source": [
    "ok=0\n",
    "for i in trange(in_layer.shape[0]):\n",
    "    if(argmax(m.eval(in_layer[i]))==y_train[i]):\n",
    "        ok+=1\n",
    "print(ok)   "
   ]
  },
  {
   "cell_type": "code",
   "execution_count": null,
   "metadata": {},
   "outputs": [],
   "source": [
    "num=x_test.shape[0]\n",
    "num=100\n",
    "\n",
    "ok=0\n",
    "for i in trange(num):\n",
    "    im=x_test[i]\n",
    "    if(argmax(m.eval(forward(im)))==y_test[i]):\n",
    "        ok+=1\n",
    "print(ok) "
   ]
  },
  {
   "cell_type": "code",
   "execution_count": null,
   "metadata": {},
   "outputs": [],
   "source": [
    "# save\n",
    "pickle.dump(m, open('mnist_cnn.p', 'wb'))"
   ]
  },
  {
   "cell_type": "code",
   "execution_count": null,
   "metadata": {},
   "outputs": [],
   "source": []
  }
 ],
 "metadata": {
  "kernelspec": {
   "display_name": "Python 3",
   "language": "python",
   "name": "python3"
  },
  "language_info": {
   "codemirror_mode": {
    "name": "ipython",
    "version": 3
   },
   "file_extension": ".py",
   "mimetype": "text/x-python",
   "name": "python",
   "nbconvert_exporter": "python",
   "pygments_lexer": "ipython3",
   "version": "3.8.5"
  }
 },
 "nbformat": 4,
 "nbformat_minor": 4
}
