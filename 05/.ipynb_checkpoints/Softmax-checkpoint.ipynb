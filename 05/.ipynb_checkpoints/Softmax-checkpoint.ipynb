{
 "cells": [
  {
   "cell_type": "code",
   "execution_count": 1,
   "metadata": {},
   "outputs": [
    {
     "name": "stdout",
     "output_type": "stream",
     "text": [
      "Populating the interactive namespace from numpy and matplotlib\n"
     ]
    }
   ],
   "source": [
    "%pylab inline"
   ]
  },
  {
   "cell_type": "code",
   "execution_count": null,
   "metadata": {},
   "outputs": [],
   "source": [
    "class Dense:\n",
    "    \n",
    "    def __init__(self, inputs, outputs):\n",
    "        self.bias = normal(0,1,outputs)\n",
    "        self.w = normal(0,1,(inputs,outputs))\n",
    "    \n",
    "    def softmax(self,x):\n",
    "        x = exp(x)\n",
    "        x/=sum(x)\n",
    "        return x\n",
    "    \n",
    "    def forward(self, input):\n",
    "        self.input = input\n",
    "        self.h = input@self.w + self.bias\n",
    "        return self.softmax(self,h)\n",
    "    \n",
    "    def backward(self, dL_dp, learning_rate):\n",
    "#        j=c\n",
    "        h_exp = exp(self.h)\n",
    "        S = sum(h_exp)\n",
    "        dp_dh = -h_exp"
   ]
  }
 ],
 "metadata": {
  "kernelspec": {
   "display_name": "Python 3",
   "language": "python",
   "name": "python3"
  },
  "language_info": {
   "codemirror_mode": {
    "name": "ipython",
    "version": 3
   },
   "file_extension": ".py",
   "mimetype": "text/x-python",
   "name": "python",
   "nbconvert_exporter": "python",
   "pygments_lexer": "ipython3",
   "version": "3.8.5"
  }
 },
 "nbformat": 4,
 "nbformat_minor": 4
}
