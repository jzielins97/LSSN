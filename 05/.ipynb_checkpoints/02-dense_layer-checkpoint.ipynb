{
 "cells": [
  {
   "cell_type": "markdown",
   "metadata": {},
   "source": [
    "# MLP - Multilayer perceptron ver. 0.3"
   ]
  },
  {
   "cell_type": "code",
   "execution_count": null,
   "metadata": {},
   "outputs": [],
   "source": [
    "%pylab inline"
   ]
  },
  {
   "cell_type": "code",
   "execution_count": null,
   "metadata": {},
   "outputs": [],
   "source": [
    "class Dense:\n",
    "    def __init__(self, inputs, outputs):\n",
    "        self.s=zeros(outputs)\n",
    "        self.h=zeros(outputs)\n",
    "        self.bias=normal(0, 1, outputs)\n",
    "        self.w=normal(0, 1, (inputs, outputs))\n",
    "        \n",
    "    def f(self, x):\n",
    "        '''Activation function'''\n",
    "        return 1/(1+exp(-x))\n",
    "\n",
    "    def df(self, x):\n",
    "        '''Derivative of activation function'''\n",
    "        y=self.f(x)\n",
    "        return y*(1-y)\n",
    "\n",
    "    def forward(self, inp):\n",
    "        self.s=inp\n",
    "        self.h=self.s @ self.w + self.bias\n",
    "        return self.f(self.h)\n",
    "\n",
    "    \n",
    "    def backward(self, diff, learning_rate):\n",
    "        delta=self.df(self.h)*diff\n",
    "        self.w+=learning_rate * outer(self.s, delta)\n",
    "        self.bias+=learning_rate*delta\n",
    "        return self.w @ delta"
   ]
  },
  {
   "cell_type": "code",
   "execution_count": null,
   "metadata": {},
   "outputs": [],
   "source": [
    "X=array([[0,0],[0,1],[1,0],[1,1]])\n",
    "Y=array([0,1,1,0])"
   ]
  },
  {
   "cell_type": "code",
   "execution_count": null,
   "metadata": {},
   "outputs": [],
   "source": [
    "l1 = Dense(2, 5)\n",
    "l2 = Dense(5, 2)"
   ]
  },
  {
   "cell_type": "code",
   "execution_count": null,
   "metadata": {},
   "outputs": [],
   "source": [
    "X=array([[0,0],[0,1],[1,0],[1,1]])\n",
    "Y=array([0,1,1,0])"
   ]
  },
  {
   "cell_type": "code",
   "execution_count": null,
   "metadata": {},
   "outputs": [],
   "source": [
    "p=0\n",
    "x=l1.forward(X[p])\n",
    "x=l2.forward(x)\n",
    "diff=eye(2)[Y[p]]-x\n",
    "d=l2.backward(diff, 1)\n",
    "l1.backward(d, 1)\n",
    "x"
   ]
  }
 ],
 "metadata": {
  "kernelspec": {
   "display_name": "Python 3",
   "language": "python",
   "name": "python3"
  },
  "language_info": {
   "codemirror_mode": {
    "name": "ipython",
    "version": 3
   },
   "file_extension": ".py",
   "mimetype": "text/x-python",
   "name": "python",
   "nbconvert_exporter": "python",
   "pygments_lexer": "ipython3",
   "version": "3.8.5"
  }
 },
 "nbformat": 4,
 "nbformat_minor": 4
}
