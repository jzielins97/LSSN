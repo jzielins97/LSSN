{
 "cells": [
  {
   "cell_type": "code",
   "execution_count": 1,
   "metadata": {},
   "outputs": [
    {
     "name": "stdout",
     "output_type": "stream",
     "text": [
      "Populating the interactive namespace from numpy and matplotlib\n"
     ]
    }
   ],
   "source": [
    "%pylab inline"
   ]
  },
  {
   "cell_type": "code",
   "execution_count": 11,
   "metadata": {},
   "outputs": [],
   "source": [
    "class Dense:\n",
    "    \n",
    "    def __init__(self, inputs, outputs):\n",
    "        self.bias = normal(0,1,outputs)\n",
    "        self.w = normal(0,1,(inputs,outputs))\n",
    "    \n",
    "    def softmax(self,x):\n",
    "        x = exp(x)\n",
    "        x/=sum(x)\n",
    "        return x\n",
    "    \n",
    "    def forward(self, input):\n",
    "        self.input = input\n",
    "        self.h = input@self.w + self.bias\n",
    "        return self.softmax(self.h)\n",
    "    \n",
    "    def backward(self, dL_dp, learning_rate):\n",
    "#        j=c\n",
    "        for j, grad in enumerate(dL_dp):\n",
    "            if(grad==0):\n",
    "                continue\n",
    "            h_exp = exp(self.h)\n",
    "            S = sum(h_exp)\n",
    "            dp_dh = -h_exp[j]*h_exp/(S*S)\n",
    "            dp_dh[j] = h_exp[j]*(S-h_exp[j])/(S*S)\n",
    "            \n",
    "            dh_dw = self.input\n",
    "            dh_db = 1\n",
    "            dh_dx = self.w\n",
    "            \n",
    "            dL_dh = dL_dp + dp_dh\n",
    "            \n",
    "            dL_dw = outer(dh_dw, dL_dh)\n",
    "            self.w -= learning_rate*dL_dw\n",
    "            \n",
    "            dL_db = dL_dh*dh_db\n",
    "            self.bias -= learning_rate*dL_db\n",
    "            \n",
    "            dL_dx = dh_dx @ dL_dh\n",
    "            \n",
    "        return dL_dx"
   ]
  },
  {
   "cell_type": "code",
   "execution_count": 121,
   "metadata": {},
   "outputs": [],
   "source": [
    "dense = Dense(10,5)"
   ]
  },
  {
   "cell_type": "code",
   "execution_count": 122,
   "metadata": {},
   "outputs": [
    {
     "data": {
      "text/plain": [
       "array([0.45322529, 0.86718953, 0.36704463, 0.71541822, 0.94644848,\n",
       "       0.16503864, 0.74584359, 0.98695149, 0.1849593 , 0.99650031])"
      ]
     },
     "execution_count": 122,
     "metadata": {},
     "output_type": "execute_result"
    }
   ],
   "source": [
    "X=rand(10)\n",
    "X"
   ]
  },
  {
   "cell_type": "code",
   "execution_count": 123,
   "metadata": {},
   "outputs": [],
   "source": [
    "p=dense.forward(X)\n",
    "dL_dp=zeros(5)"
   ]
  },
  {
   "cell_type": "code",
   "execution_count": 124,
   "metadata": {},
   "outputs": [
    {
     "name": "stdout",
     "output_type": "stream",
     "text": [
      "[7.17269127e-01 2.12340186e-01 6.18846923e-02 8.10822687e-03\n",
      " 3.97768122e-04]\n"
     ]
    }
   ],
   "source": [
    "p=dense.forward(X)\n",
    "dL_dp[0]=-1/p[0]\n",
    "dense.backward(dL_dp,0.1)\n",
    "print(p)"
   ]
  }
 ],
 "metadata": {
  "kernelspec": {
   "display_name": "Python 3",
   "language": "python",
   "name": "python3"
  },
  "language_info": {
   "codemirror_mode": {
    "name": "ipython",
    "version": 3
   },
   "file_extension": ".py",
   "mimetype": "text/x-python",
   "name": "python",
   "nbconvert_exporter": "python",
   "pygments_lexer": "ipython3",
   "version": "3.8.5"
  }
 },
 "nbformat": 4,
 "nbformat_minor": 4
}
