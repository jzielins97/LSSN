{
 "cells": [
  {
   "cell_type": "code",
   "execution_count": 1,
   "metadata": {},
   "outputs": [
    {
     "name": "stdout",
     "output_type": "stream",
     "text": [
      "Populating the interactive namespace from numpy and matplotlib\n"
     ]
    }
   ],
   "source": [
    "%pylab inline\n",
    "import pandas as pd\n",
    "#from sklearn.datasets import load_digits"
   ]
  },
  {
   "cell_type": "code",
   "execution_count": 2,
   "metadata": {},
   "outputs": [],
   "source": [
    "#digits = load_digits()\n",
    "#imshow(digits.images[7])"
   ]
  },
  {
   "cell_type": "code",
   "execution_count": 87,
   "metadata": {},
   "outputs": [],
   "source": [
    "pat_num=600\n",
    "iTrain=500\n",
    "d = loadtxt(\"mnist_train.csv\", delimiter=\",\",max_rows=pat_num)\n",
    "dClasses=[int(c) for c in d[:iTrain,0]]\n",
    "tClasses=[int(c) for c in d[iTrain:,0]]\n",
    "data=d[:iTrain,:]\n",
    "test=d[iTrain:,:]"
   ]
  },
  {
   "cell_type": "code",
   "execution_count": 88,
   "metadata": {},
   "outputs": [],
   "source": [
    "poka = lambda x : imshow(x, cmap=cm.gist_gray_r)"
   ]
  },
  {
   "cell_type": "markdown",
   "metadata": {},
   "source": [
    "### average_digits\n",
    "funkcja tworzy wzorce do uczenia uśredniając obrazki danych liczb. Zamienia też wartości liczbowe neuronów z 0-255 na -1 lub 1\n",
    "#### input:\n",
    "    data - dane posiadające informacje o poszczególnych wartościach liczbowych neuronów - numpy array shape(N,785)\n",
    "    classes - klasy odpowiadające jaka liczba jest zakodowana w data\n",
    "    number - liczba, którą chcemy uśrednić - int\n",
    "    threshold - od jakiej liczby neuron ma mieć wartość 1 - double (0.0:1.0)\n",
    "    N_train - liczba pierwszych wzorów przeznaczonych do uczenia (po których będzie uśrednianie) - int\n",
    "#### output:\n",
    "    avg - wzór z wartościami 1 lub -1 - numpy array shape(784,)"
   ]
  },
  {
   "cell_type": "code",
   "execution_count": 89,
   "metadata": {},
   "outputs": [],
   "source": [
    "def average_digits(data, number, threshold=0.5):\n",
    "    avg = data[data[:,0]==number][:,1:].mean(axis=0)\n",
    "    avg=recalculate_digit(avg,threshold)\n",
    "    return avg"
   ]
  },
  {
   "cell_type": "markdown",
   "metadata": {},
   "source": [
    "### recalculate_digit\n",
    "funkcja ma na celu przerzucenie wartości nauronów z liczb 0-255 na -1 lub 1\n",
    "#### input:\n",
    "    data - wzorzec do zmiany - numpy array shape(784,)\n",
    "    threshold - od jakiej liczby neuron ma mieć wartość 1 - double (0.0,1.0)\n",
    "#### output\n",
    "    pat - wzorzec z 1 lub -1 - numpy array shape(784,)\n",
    "    \n",
    "    "
   ]
  },
  {
   "cell_type": "code",
   "execution_count": 90,
   "metadata": {},
   "outputs": [],
   "source": [
    "def recalculate_digit(data, threshold=0.5):\n",
    "    pat= data/255\n",
    "    for i in range(len(pat)):\n",
    "        if pat[i]>threshold:\n",
    "            pat[i]=1\n",
    "        else:\n",
    "            pat[i]=0\n",
    "        \n",
    "    pat=pat*2-1\n",
    "    return pat"
   ]
  },
  {
   "cell_type": "markdown",
   "metadata": {},
   "source": [
    "### calculate_cover:\n",
    "funkcja zwraca wartość liczbową przekrycia wyniku predykcji z danym wzorem. Pozwala to na późniejsze wybranie jaka liczba została rozpoznana\n",
    "#### input:\n",
    "    X - wynik predykcji. Wartości neuronów {-1,1} - numpy array shape(784,)\n",
    "    pat - wzorzec, do którego porównujemy. Wartości neuronów {-1,1} - numpy array shape(784,)\n",
    "#### output:\n",
    "    score - procentowe porównanie pokrycia wzorca przez wynik predykcji - numpy array::double (0.0,1.0)-> shape(10,)"
   ]
  },
  {
   "cell_type": "code",
   "execution_count": 91,
   "metadata": {},
   "outputs": [],
   "source": [
    "def calculate_cover(X,pat):\n",
    "    score=zeros(10)\n",
    "    i=0\n",
    "    for p in pat:\n",
    "        #score[i]=numpy.count_nonzero((X==p))/784\n",
    "        score[i]=X@p/pat.shape[1]\n",
    "        i+=1\n",
    "    return score"
   ]
  },
  {
   "cell_type": "markdown",
   "metadata": {},
   "source": [
    "### predict\n",
    "funkcja do predykcji liczby z pisma ręcznego.\n",
    "#### input:\n",
    "    X - dane posiadające informacje o poszczególnych wartościach liczbowych neuronów - numpy array shape(784,)\n",
    "    pat - wzorce, na których została nauczona sieć - numpy array shape(10,784)\n",
    "    W - macierz wag nauczonej sieci - numpy array shape(784,784)\n",
    "#### output:\n",
    "    val - predykcja liczby - int\n",
    "    X - końcowe wartości liczbowe poszczególnych neuronów - numpy array shape(784,)"
   ]
  },
  {
   "cell_type": "code",
   "execution_count": 92,
   "metadata": {},
   "outputs": [],
   "source": [
    "def predict(X,pat, W):\n",
    "    N=pat.shape[1]\n",
    "    Xn=zeros(N)\n",
    "    is_stable=0 # przez ile fitowań nie zmienia się predykcja\n",
    "    last_predict=-1 # jaka była ostatnia predykcja\n",
    "\n",
    "    while is_stable<2:\n",
    "        M=zeros(pat.shape[0])\n",
    "        for i in range(N):\n",
    "            for j in range(N):\n",
    "                Xn[i]+=W[i,j]*X[j]\n",
    "        X=sign(Xn)\n",
    "        M=calculate_cover(X,pat)\n",
    "        if argmax(abs(M))==last_predict:\n",
    "            is_stable+=1\n",
    "        last_predict=argmax(abs(M))\n",
    "    \n",
    "    val=argmax(abs(M))\n",
    "    return val,X"
   ]
  },
  {
   "cell_type": "markdown",
   "metadata": {},
   "source": [
    "przygotowanie wzorców do nauczenia modelu"
   ]
  },
  {
   "cell_type": "code",
   "execution_count": 105,
   "metadata": {},
   "outputs": [
    {
     "data": {
      "image/png": "[encoded data removed]",
      "text/plain": [
       "<Figure size 432x288 with 10 Axes>"
      ]
     },
     "metadata": {
      "needs_background": "light"
     },
     "output_type": "display_data"
    }
   ],
   "source": [
    "N=784\n",
    "pat = zeros((10,784))\n",
    "for i in range(10):\n",
    "    pat[i] = average_digits(data,i,0.45)\n",
    "\n",
    "i=1\n",
    "for p in pat:\n",
    "    subplot(2,5,i)\n",
    "    i+=1\n",
    "    poka(p.reshape(28,28))"
   ]
  },
  {
   "cell_type": "code",
   "execution_count": 106,
   "metadata": {},
   "outputs": [
    {
     "data": {
      "text/plain": [
       "(10, 784)"
      ]
     },
     "execution_count": 106,
     "metadata": {},
     "output_type": "execute_result"
    }
   ],
   "source": [
    "pat.shape"
   ]
  },
  {
   "cell_type": "code",
   "execution_count": 107,
   "metadata": {},
   "outputs": [],
   "source": [
    "#poka(d[d[:,0]==5][:,1:].mean(axis=0).reshape(28,28))"
   ]
  },
  {
   "cell_type": "code",
   "execution_count": 161,
   "metadata": {},
   "outputs": [],
   "source": [
    "W=pat.T @ pat / pat.shape[0]\n",
    "W-=eye(N,N)"
   ]
  },
  {
   "cell_type": "markdown",
   "metadata": {},
   "source": [
    "Testowanie poszczególnych liczb"
   ]
  },
  {
   "cell_type": "code",
   "execution_count": 162,
   "metadata": {},
   "outputs": [
    {
     "data": {
      "text/plain": [
       "<matplotlib.image.AxesImage at 0x1660fec54f0>"
      ]
     },
     "execution_count": 162,
     "metadata": {},
     "output_type": "execute_result"
    },
    {
     "data": {
      "image/png": "[encoded data removed]",
      "text/plain": [
       "<Figure size 432x288 with 1 Axes>"
      ]
     },
     "metadata": {
      "needs_background": "light"
     },
     "output_type": "display_data"
    }
   ],
   "source": [
    "pat_test = test[:,1:][15]\n",
    "X=recalculate_digit(pat_test,0.45)\n",
    "poka(reshape(X,(28,28)))"
   ]
  },
  {
   "cell_type": "code",
   "execution_count": 163,
   "metadata": {},
   "outputs": [
    {
     "name": "stdout",
     "output_type": "stream",
     "text": [
      "[0.61479592 0.81122449 0.83928571 0.74744898 0.83928571 0.81887755\n",
      " 0.75765306 0.83418367 0.83163265 0.86989796]\n",
      "9\n"
     ]
    },
    {
     "data": {
      "image/png": "[encoded data removed]",
      "text/plain": [
       "<Figure size 432x288 with 1 Axes>"
      ]
     },
     "metadata": {
      "needs_background": "light"
     },
     "output_type": "display_data"
    }
   ],
   "source": [
    "Xn=zeros(N)\n",
    "is_stable=0 # przez ile fitowań nie zmienia się predykcja\n",
    "last_predict=-1 # jaka była ostatnia predykcja\n",
    "\n",
    "M=zeros(pat.shape[0])\n",
    "for i in range(N):\n",
    "    for j in range(N):\n",
    "        Xn[i]+=W[i,j]*X[j]\n",
    "X=sign(Xn)\n",
    "poka(reshape(X,(28,28)));\n",
    "M=calculate_cover(X,pat)\n",
    "#     if argmax(abs(M))==last_predict:\n",
    "#         is_stable+=1\n",
    "#     last_predict=argmax(abs(M))\n",
    "        \n",
    "poka(reshape(X,(28,28)));\n",
    "print(M)\n",
    "print(argmax(abs(M)))"
   ]
  },
  {
   "cell_type": "markdown",
   "metadata": {},
   "source": [
    "testowanie skuteczności (macierz pomyłek)"
   ]
  },
  {
   "cell_type": "code",
   "execution_count": 164,
   "metadata": {},
   "outputs": [],
   "source": [
    "macierz = zeros((10,10))\n",
    "output = zeros(10)\n",
    "n=0 # liczba testów\n",
    "for t in range(test.shape[0]):\n",
    "    pat_test = test[:,1:][t]\n",
    "    X_t=recalculate_digit(pat_test,0.25)\n",
    "    val,X = predict(X_t,pat,W)\n",
    "    output[val]+=1\n",
    "    macierz[tClasses[t],val]+=1\n",
    "    n+=1"
   ]
  },
  {
   "cell_type": "code",
   "execution_count": 165,
   "metadata": {},
   "outputs": [
    {
     "data": {
      "text/plain": [
       "array([  0.,   0.,   0.,   0.,   0.,   0.,   0.,   0.,   0., 100.])"
      ]
     },
     "execution_count": 165,
     "metadata": {},
     "output_type": "execute_result"
    }
   ],
   "source": [
    "output"
   ]
  },
  {
   "cell_type": "code",
   "execution_count": 166,
   "metadata": {},
   "outputs": [
    {
     "name": "stderr",
     "output_type": "stream",
     "text": [
      "<ipython-input-166-bbbc97089081>:2: RuntimeWarning: invalid value encountered in true_divide\n",
      "  macierz[:,i]/=output[i]\n"
     ]
    }
   ],
   "source": [
    "for i in range(10):\n",
    "    macierz[:,i]/=output[i]"
   ]
  },
  {
   "cell_type": "markdown",
   "metadata": {},
   "source": [
    "Macierz pokazuje jak zostały zidentyfikowane poszczególne przykłady. Kolumny oznaczają predykcję liczby, a wiersze poprawną wartość liczby z przykładu."
   ]
  },
  {
   "cell_type": "code",
   "execution_count": 167,
   "metadata": {},
   "outputs": [
    {
     "data": {
      "text/html": [
       "<div>\n",
       "<style scoped>\n",
       "    .dataframe tbody tr th:only-of-type {\n",
       "        vertical-align: middle;\n",
       "    }\n",
       "\n",
       "    .dataframe tbody tr th {\n",
       "        vertical-align: top;\n",
       "    }\n",
       "\n",
       "    .dataframe thead th {\n",
       "        text-align: right;\n",
       "    }\n",
       "</style>\n",
       "<table border=\"1\" class=\"dataframe\">\n",
       "  <thead>\n",
       "    <tr style=\"text-align: right;\">\n",
       "      <th></th>\n",
       "      <th>0</th>\n",
       "      <th>1</th>\n",
       "      <th>2</th>\n",
       "      <th>3</th>\n",
       "      <th>4</th>\n",
       "      <th>5</th>\n",
       "      <th>6</th>\n",
       "      <th>7</th>\n",
       "      <th>8</th>\n",
       "      <th>9</th>\n",
       "    </tr>\n",
       "  </thead>\n",
       "  <tbody>\n",
       "    <tr>\n",
       "      <th>0</th>\n",
       "      <td>NaN</td>\n",
       "      <td>NaN</td>\n",
       "      <td>NaN</td>\n",
       "      <td>NaN</td>\n",
       "      <td>NaN</td>\n",
       "      <td>NaN</td>\n",
       "      <td>NaN</td>\n",
       "      <td>NaN</td>\n",
       "      <td>NaN</td>\n",
       "      <td>0.08</td>\n",
       "    </tr>\n",
       "    <tr>\n",
       "      <th>1</th>\n",
       "      <td>NaN</td>\n",
       "      <td>NaN</td>\n",
       "      <td>NaN</td>\n",
       "      <td>NaN</td>\n",
       "      <td>NaN</td>\n",
       "      <td>NaN</td>\n",
       "      <td>NaN</td>\n",
       "      <td>NaN</td>\n",
       "      <td>NaN</td>\n",
       "      <td>0.13</td>\n",
       "    </tr>\n",
       "    <tr>\n",
       "      <th>2</th>\n",
       "      <td>NaN</td>\n",
       "      <td>NaN</td>\n",
       "      <td>NaN</td>\n",
       "      <td>NaN</td>\n",
       "      <td>NaN</td>\n",
       "      <td>NaN</td>\n",
       "      <td>NaN</td>\n",
       "      <td>NaN</td>\n",
       "      <td>NaN</td>\n",
       "      <td>0.12</td>\n",
       "    </tr>\n",
       "    <tr>\n",
       "      <th>3</th>\n",
       "      <td>NaN</td>\n",
       "      <td>NaN</td>\n",
       "      <td>NaN</td>\n",
       "      <td>NaN</td>\n",
       "      <td>NaN</td>\n",
       "      <td>NaN</td>\n",
       "      <td>NaN</td>\n",
       "      <td>NaN</td>\n",
       "      <td>NaN</td>\n",
       "      <td>0.09</td>\n",
       "    </tr>\n",
       "    <tr>\n",
       "      <th>4</th>\n",
       "      <td>NaN</td>\n",
       "      <td>NaN</td>\n",
       "      <td>NaN</td>\n",
       "      <td>NaN</td>\n",
       "      <td>NaN</td>\n",
       "      <td>NaN</td>\n",
       "      <td>NaN</td>\n",
       "      <td>NaN</td>\n",
       "      <td>NaN</td>\n",
       "      <td>0.07</td>\n",
       "    </tr>\n",
       "    <tr>\n",
       "      <th>5</th>\n",
       "      <td>NaN</td>\n",
       "      <td>NaN</td>\n",
       "      <td>NaN</td>\n",
       "      <td>NaN</td>\n",
       "      <td>NaN</td>\n",
       "      <td>NaN</td>\n",
       "      <td>NaN</td>\n",
       "      <td>NaN</td>\n",
       "      <td>NaN</td>\n",
       "      <td>0.12</td>\n",
       "    </tr>\n",
       "    <tr>\n",
       "      <th>6</th>\n",
       "      <td>NaN</td>\n",
       "      <td>NaN</td>\n",
       "      <td>NaN</td>\n",
       "      <td>NaN</td>\n",
       "      <td>NaN</td>\n",
       "      <td>NaN</td>\n",
       "      <td>NaN</td>\n",
       "      <td>NaN</td>\n",
       "      <td>NaN</td>\n",
       "      <td>0.09</td>\n",
       "    </tr>\n",
       "    <tr>\n",
       "      <th>7</th>\n",
       "      <td>NaN</td>\n",
       "      <td>NaN</td>\n",
       "      <td>NaN</td>\n",
       "      <td>NaN</td>\n",
       "      <td>NaN</td>\n",
       "      <td>NaN</td>\n",
       "      <td>NaN</td>\n",
       "      <td>NaN</td>\n",
       "      <td>NaN</td>\n",
       "      <td>0.10</td>\n",
       "    </tr>\n",
       "    <tr>\n",
       "      <th>8</th>\n",
       "      <td>NaN</td>\n",
       "      <td>NaN</td>\n",
       "      <td>NaN</td>\n",
       "      <td>NaN</td>\n",
       "      <td>NaN</td>\n",
       "      <td>NaN</td>\n",
       "      <td>NaN</td>\n",
       "      <td>NaN</td>\n",
       "      <td>NaN</td>\n",
       "      <td>0.10</td>\n",
       "    </tr>\n",
       "    <tr>\n",
       "      <th>9</th>\n",
       "      <td>NaN</td>\n",
       "      <td>NaN</td>\n",
       "      <td>NaN</td>\n",
       "      <td>NaN</td>\n",
       "      <td>NaN</td>\n",
       "      <td>NaN</td>\n",
       "      <td>NaN</td>\n",
       "      <td>NaN</td>\n",
       "      <td>NaN</td>\n",
       "      <td>0.10</td>\n",
       "    </tr>\n",
       "  </tbody>\n",
       "</table>\n",
       "</div>"
      ],
      "text/plain": [
       "    0   1   2   3   4   5   6   7   8     9\n",
       "0 NaN NaN NaN NaN NaN NaN NaN NaN NaN  0.08\n",
       "1 NaN NaN NaN NaN NaN NaN NaN NaN NaN  0.13\n",
       "2 NaN NaN NaN NaN NaN NaN NaN NaN NaN  0.12\n",
       "3 NaN NaN NaN NaN NaN NaN NaN NaN NaN  0.09\n",
       "4 NaN NaN NaN NaN NaN NaN NaN NaN NaN  0.07\n",
       "5 NaN NaN NaN NaN NaN NaN NaN NaN NaN  0.12\n",
       "6 NaN NaN NaN NaN NaN NaN NaN NaN NaN  0.09\n",
       "7 NaN NaN NaN NaN NaN NaN NaN NaN NaN  0.10\n",
       "8 NaN NaN NaN NaN NaN NaN NaN NaN NaN  0.10\n",
       "9 NaN NaN NaN NaN NaN NaN NaN NaN NaN  0.10"
      ]
     },
     "execution_count": 167,
     "metadata": {},
     "output_type": "execute_result"
    }
   ],
   "source": [
    "c=[\"0\",\"1\",\"2\",\"3\",\"4\",\"5\",\"6\",\"7\",\"8\",\"9\"] \n",
    "df=pd.DataFrame(data=macierz,index=c,columns=c)\n",
    "df.rename_axis('True', axis = 'rows')\n",
    "df.rename_axis('Predict', axis = 'columns')\n",
    "df"
   ]
  },
  {
   "cell_type": "code",
   "execution_count": null,
   "metadata": {},
   "outputs": [],
   "source": []
  },
  {
   "cell_type": "code",
   "execution_count": null,
   "metadata": {},
   "outputs": [],
   "source": []
  }
 ],
 "metadata": {
  "kernelspec": {
   "display_name": "Python 3",
   "language": "python",
   "name": "python3"
  },
  "language_info": {
   "codemirror_mode": {
    "name": "ipython",
    "version": 3
   },
   "file_extension": ".py",
   "mimetype": "text/x-python",
   "name": "python",
   "nbconvert_exporter": "python",
   "pygments_lexer": "ipython3",
   "version": "3.8.5"
  }
 },
 "nbformat": 4,
 "nbformat_minor": 4
}
