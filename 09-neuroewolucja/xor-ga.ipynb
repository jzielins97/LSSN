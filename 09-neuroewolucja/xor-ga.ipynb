{
 "cells": [
  {
   "cell_type": "code",
   "execution_count": 1,
   "metadata": {},
   "outputs": [
    {
     "name": "stdout",
     "output_type": "stream",
     "text": [
      "Populating the interactive namespace from numpy and matplotlib\n"
     ]
    }
   ],
   "source": [
    "%pylab inline"
   ]
  },
  {
   "cell_type": "code",
   "execution_count": 2,
   "metadata": {},
   "outputs": [],
   "source": [
    "import tensorflow as tf\n",
    "from tensorflow import keras\n",
    "from tensorflow.keras import layers"
   ]
  },
  {
   "cell_type": "code",
   "execution_count": 3,
   "metadata": {},
   "outputs": [],
   "source": [
    "from deap import algorithms, base, creator, tools"
   ]
  },
  {
   "cell_type": "code",
   "execution_count": 4,
   "metadata": {},
   "outputs": [],
   "source": [
    "X=[[0,0], [0,1], [1,0], [1,1]]\n",
    "Y=[[0],[1],[1],[0]]"
   ]
  },
  {
   "cell_type": "code",
   "execution_count": 5,
   "metadata": {},
   "outputs": [],
   "source": [
    "model = keras.models.Sequential()\n",
    "model.add(layers.Dense(5, input_shape=(2,), activation='relu'))\n",
    "model.add(layers.Dense(1, activation='sigmoid'))"
   ]
  },
  {
   "cell_type": "code",
   "execution_count": 6,
   "metadata": {},
   "outputs": [],
   "source": [
    "model.compile(loss='binary_crossentropy', optimizer=keras.optimizers.SGD(learning_rate=0.1))"
   ]
  },
  {
   "cell_type": "code",
   "execution_count": 7,
   "metadata": {},
   "outputs": [
    {
     "data": {
      "text/plain": [
       "array([[0.5       ],\n",
       "       [0.39044598],\n",
       "       [0.4938762 ],\n",
       "       [0.3866255 ]], dtype=float32)"
      ]
     },
     "execution_count": 7,
     "metadata": {},
     "output_type": "execute_result"
    }
   ],
   "source": [
    "model.predict(X)"
   ]
  },
  {
   "cell_type": "code",
   "execution_count": 8,
   "metadata": {},
   "outputs": [
    {
     "data": {
      "text/plain": [
       "[<tf.Variable 'dense/kernel:0' shape=(2, 5) dtype=float32, numpy=\n",
       " array([[ 0.3413484 ,  0.19459867, -0.3319553 ,  0.02361268, -0.08398724],\n",
       "        [-0.56094015, -0.9225579 , -0.46661925,  0.65405416, -0.49264166]],\n",
       "       dtype=float32)>,\n",
       " <tf.Variable 'dense/bias:0' shape=(5,) dtype=float32, numpy=array([0., 0., 0., 0., 0.], dtype=float32)>,\n",
       " <tf.Variable 'dense_1/kernel:0' shape=(5, 1) dtype=float32, numpy=\n",
       " array([[-0.35610175],\n",
       "        [ 0.58139896],\n",
       "        [ 0.25370908],\n",
       "        [-0.6810415 ],\n",
       "        [ 0.62734294]], dtype=float32)>,\n",
       " <tf.Variable 'dense_1/bias:0' shape=(1,) dtype=float32, numpy=array([0.], dtype=float32)>]"
      ]
     },
     "execution_count": 8,
     "metadata": {},
     "output_type": "execute_result"
    }
   ],
   "source": [
    "model.weights"
   ]
  },
  {
   "cell_type": "code",
   "execution_count": 9,
   "metadata": {},
   "outputs": [],
   "source": [
    "class WeightsShaper:\n",
    "    def __init__(self, weights):\n",
    "        self.shapes=[]\n",
    "        self.lengths=[]\n",
    "        for w in weights:\n",
    "            self.shapes.append(w.numpy().shape)\n",
    "            self.lengths.append(w.numpy().reshape(-1).shape[0])\n",
    "    def flat(self, weights):\n",
    "        flatted=[]\n",
    "        for w in flatten(weights):\n",
    "            flatted+=w.numpy().reshape(-1).tolist()\n",
    "        return array(flatted)    \n",
    "    \n",
    "    def unflat(self, flatted, weights):\n",
    "        pos=0\n",
    "        for i in range(len(weights)):\n",
    "            weights[i].assign(flatted[pos:pos+self.lengths[i]].reshape(self.shapes[i]))\n",
    "            pos+=self.lengths[i]"
   ]
  },
  {
   "cell_type": "code",
   "execution_count": 10,
   "metadata": {},
   "outputs": [],
   "source": [
    "shaper=WeightsShaper(model.weights)"
   ]
  },
  {
   "cell_type": "code",
   "execution_count": 11,
   "metadata": {},
   "outputs": [],
   "source": [
    "creator.create(\"Minimalizator\", base.Fitness, weights=(-1.0,))\n",
    "creator.create(\"Individual\", list, fitness=creator.Minimalizator)"
   ]
  },
  {
   "cell_type": "code",
   "execution_count": 12,
   "metadata": {},
   "outputs": [],
   "source": [
    "def eval(individual):\n",
    "    shaper.unflat(array(individual), model.weights)\n",
    "    loss=model.evaluate(X,Y, verbose=0)\n",
    "#     loss=sum(abs(model.predict(X)-array(Y)))\n",
    "    return loss, "
   ]
  },
  {
   "cell_type": "code",
   "execution_count": 13,
   "metadata": {},
   "outputs": [],
   "source": [
    "popSize=100\n",
    "indSize=sum(shaper.lengths)"
   ]
  },
  {
   "cell_type": "code",
   "execution_count": 14,
   "metadata": {},
   "outputs": [],
   "source": [
    "toolbox = base.Toolbox()\n",
    "\n",
    "toolbox.register(\"gene\", random.uniform, -1, 1)\n",
    "\n",
    "toolbox.register(\"individual\", tools.initRepeat, creator.Individual, toolbox.gene, indSize)\n",
    "toolbox.register(\"population\", tools.initRepeat, list, toolbox.individual)\n",
    "\n",
    "toolbox.register(\"evaluate\", eval)\n",
    "toolbox.register(\"mate\", tools.cxTwoPoint)\n",
    "toolbox.register(\"mutate\", tools.mutGaussian, mu=0, sigma=1, indpb=0.05)\n",
    "toolbox.register(\"select\", tools.selTournament, tournsize=3)"
   ]
  },
  {
   "cell_type": "code",
   "execution_count": 15,
   "metadata": {},
   "outputs": [],
   "source": [
    "pop = toolbox.population(n=popSize)\n",
    "hof = tools.HallOfFame(1)\n",
    "stats = tools.Statistics(lambda ind: ind.fitness.values)\n",
    "stats.register(\"avg\", numpy.mean)\n",
    "stats.register(\"std\", numpy.std)\n",
    "stats.register(\"min\", numpy.min)\n",
    "stats.register(\"max\", numpy.max)"
   ]
  },
  {
   "cell_type": "code",
   "execution_count": 26,
   "metadata": {},
   "outputs": [
    {
     "name": "stdout",
     "output_type": "stream",
     "text": [
      "gen\tnevals\tavg       \tstd       \tmin       \tmax      \n",
      "0  \t0     \t0.00671727\t0.00183207\t0.00468457\t0.0201298\n",
      "1  \t68    \t0.0197403 \t0.0888556 \t0.00407536\t0.866825 \n",
      "2  \t53    \t0.0426622 \t0.306721  \t0.00301104\t3.06836  \n",
      "3  \t73    \t0.0134813 \t0.0832359 \t0.00282493\t0.841523 \n",
      "4  \t67    \t0.0189227 \t0.120321  \t0.00205311\t1.20756  \n",
      "5  \t57    \t0.0591692 \t0.493836  \t0.00205311\t4.95418  \n",
      "6  \t63    \t0.00509718\t0.0102686 \t0.00155345\t0.100057 \n",
      "7  \t63    \t0.00853996\t0.0522222 \t0.00155345\t0.527828 \n",
      "8  \t54    \t0.00372448\t0.00810559\t0.00133145\t0.0706859\n",
      "9  \t63    \t0.0380947 \t0.250853  \t0.00110027\t1.90261  \n",
      "10 \t67    \t0.0132208 \t0.102556  \t0.000954717\t1.02735  \n",
      "11 \t55    \t0.00424054\t0.0262838 \t0.000883394\t0.265698 \n",
      "12 \t66    \t0.0448853 \t0.271924  \t0.000723048\t2.15378  \n",
      "13 \t60    \t0.00838429\t0.0536651 \t0.000565183\t0.523342 \n",
      "14 \t68    \t0.00355068\t0.0214442 \t0.000565183\t0.213789 \n",
      "15 \t56    \t0.0177965 \t0.132141  \t0.000532506\t1.31398  \n",
      "16 \t63    \t0.00819214\t0.074561  \t0.000532506\t0.750064 \n",
      "17 \t68    \t0.0180184 \t0.129856  \t0.000478738\t1.19175  \n",
      "18 \t75    \t0.00462292\t0.0397283 \t0.000455087\t0.399902 \n",
      "19 \t59    \t0.0167727 \t0.160926  \t0.000441985\t1.61796  \n",
      "20 \t66    \t0.00730982\t0.067107  \t0.000231837\t0.674995 \n",
      "21 \t59    \t0.0156985 \t0.0985748 \t0.000231837\t0.745554 \n",
      "22 \t61    \t0.000469374\t0.000354063\t0.000236034\t0.00359923\n",
      "23 \t46    \t0.000969531\t0.00534566 \t0.000221807\t0.0539958 \n",
      "24 \t64    \t0.00195918 \t0.0145529  \t0.000190837\t0.146487  \n",
      "25 \t61    \t0.00529455 \t0.0487944  \t5.3808e-05 \t0.490658  \n",
      "26 \t57    \t0.000231433\t8.32114e-05\t5.3808e-05 \t0.000679508\n",
      "27 \t66    \t0.00477435 \t0.0331996  \t5.3808e-05 \t0.307693   \n",
      "28 \t56    \t0.00793203 \t0.0516446  \t4.41615e-05\t0.461417   \n",
      "29 \t56    \t0.00146994 \t0.0125795  \t4.41615e-05\t0.12647    \n",
      "30 \t66    \t0.000221961\t0.00104705 \t3.9364e-05 \t0.00983498 \n"
     ]
    }
   ],
   "source": [
    "pop, log = algorithms.eaSimple(pop, toolbox, cxpb=0.5, mutpb=0.2, ngen=30, halloffame=hof, verbose=True, stats=stats)"
   ]
  },
  {
   "cell_type": "code",
   "execution_count": 27,
   "metadata": {},
   "outputs": [
    {
     "data": {
      "text/plain": [
       "[-3.126956884093955,\n",
       " 3.198300371436284,\n",
       " 2.0261400401917777,\n",
       " -2.449050204972247,\n",
       " -2.0646531887947974,\n",
       " 1.6886925338332837,\n",
       " 2.011451159506794,\n",
       " -2.585183229577143,\n",
       " -1.9334729300539837,\n",
       " -0.5286607989488941,\n",
       " 0.08778797427963797,\n",
       " -0.9738217740667816,\n",
       " -0.028323279442915544,\n",
       " 1.9816437576210988,\n",
       " 0.41779596629085575,\n",
       " 7.6236316644311835,\n",
       " -2.23233032347526,\n",
       " 8.486284380316922,\n",
       " -6.178250651277026,\n",
       " -0.5151129011545427,\n",
       " -1.7786981303617817]"
      ]
     },
     "execution_count": 27,
     "metadata": {},
     "output_type": "execute_result"
    }
   ],
   "source": [
    "hof[0]"
   ]
  },
  {
   "cell_type": "code",
   "execution_count": 28,
   "metadata": {},
   "outputs": [
    {
     "data": {
      "text/plain": [
       "array([[1.2811666e-06],\n",
       "       [9.9989378e-01],\n",
       "       [9.9996316e-01],\n",
       "       [1.3207938e-05]], dtype=float32)"
      ]
     },
     "execution_count": 28,
     "metadata": {},
     "output_type": "execute_result"
    }
   ],
   "source": [
    "shaper.unflat(array(hof[0]), model.weights)\n",
    "model.predict(X)"
   ]
  },
  {
   "cell_type": "code",
   "execution_count": 29,
   "metadata": {},
   "outputs": [
    {
     "data": {
      "text/plain": [
       "array([[9.9989378e-01],\n",
       "       [1.2811666e-06],\n",
       "       [1.3207938e-05],\n",
       "       [9.9996316e-01]], dtype=float32)"
      ]
     },
     "execution_count": 29,
     "metadata": {},
     "output_type": "execute_result"
    }
   ],
   "source": [
    "X_test=[[0,1], [0,0], [1,1], [1,0]]\n",
    "model.predict(X_test)"
   ]
  },
  {
   "cell_type": "code",
   "execution_count": null,
   "metadata": {},
   "outputs": [],
   "source": []
  }
 ],
 "metadata": {
  "kernelspec": {
   "display_name": "Python 3",
   "language": "python",
   "name": "python3"
  },
  "language_info": {
   "codemirror_mode": {
    "name": "ipython",
    "version": 3
   },
   "file_extension": ".py",
   "mimetype": "text/x-python",
   "name": "python",
   "nbconvert_exporter": "python",
   "pygments_lexer": "ipython3",
   "version": "3.8.5"
  }
 },
 "nbformat": 4,
 "nbformat_minor": 4
}
