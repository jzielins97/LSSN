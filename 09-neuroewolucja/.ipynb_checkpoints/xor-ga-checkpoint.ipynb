{
 "cells": [
  {
   "cell_type": "code",
   "execution_count": 1,
   "metadata": {},
   "outputs": [
    {
     "name": "stdout",
     "output_type": "stream",
     "text": [
      "Populating the interactive namespace from numpy and matplotlib\n"
     ]
    }
   ],
   "source": [
    "%pylab inline"
   ]
  },
  {
   "cell_type": "code",
   "execution_count": 2,
   "metadata": {},
   "outputs": [],
   "source": [
    "import tensorflow as tf\n",
    "from tensorflow import keras\n",
    "from tensorflow.keras import layers"
   ]
  },
  {
   "cell_type": "code",
   "execution_count": 3,
   "metadata": {},
   "outputs": [],
   "source": [
    "from deap import algorithms, base, creator, tools"
   ]
  },
  {
   "cell_type": "code",
   "execution_count": 4,
   "metadata": {},
   "outputs": [],
   "source": [
    "X=[[0,0], [0,1], [1,0], [1,1]]\n",
    "Y=[[0],[1],[1],[0]]"
   ]
  },
  {
   "cell_type": "code",
   "execution_count": 5,
   "metadata": {},
   "outputs": [],
   "source": [
    "model = keras.models.Sequential()\n",
    "model.add(layers.Dense(5, input_shape=(2,), activation='relu'))\n",
    "model.add(layers.Dense(1, activation='sigmoid'))"
   ]
  },
  {
   "cell_type": "code",
   "execution_count": 6,
   "metadata": {},
   "outputs": [],
   "source": [
    "model.compile(loss='binary_crossentropy', optimizer=keras.optimizers.SGD(learning_rate=0.1))"
   ]
  },
  {
   "cell_type": "code",
   "execution_count": 7,
   "metadata": {},
   "outputs": [
    {
     "data": {
      "text/plain": [
       "array([[0.5       ],\n",
       "       [0.57060194],\n",
       "       [0.5       ],\n",
       "       [0.53228474]], dtype=float32)"
      ]
     },
     "execution_count": 7,
     "metadata": {},
     "output_type": "execute_result"
    }
   ],
   "source": [
    "model.predict(X)"
   ]
  },
  {
   "cell_type": "code",
   "execution_count": 8,
   "metadata": {},
   "outputs": [
    {
     "data": {
      "text/plain": [
       "[<tf.Variable 'dense/kernel:0' shape=(2, 5) dtype=float32, numpy=\n",
       " array([[-0.29688597, -0.3022791 , -0.69617903, -0.801228  , -0.92097306],\n",
       "        [ 0.13155603,  0.6574266 ,  0.03190005, -0.5155122 , -0.5907249 ]],\n",
       "       dtype=float32)>,\n",
       " <tf.Variable 'dense/bias:0' shape=(5,) dtype=float32, numpy=array([0., 0., 0., 0., 0.], dtype=float32)>,\n",
       " <tf.Variable 'dense_1/kernel:0' shape=(5, 1) dtype=float32, numpy=\n",
       " array([[ 0.46560383],\n",
       "        [ 0.3641274 ],\n",
       "        [-0.51198816],\n",
       "        [ 0.9242306 ],\n",
       "        [-0.24972272]], dtype=float32)>,\n",
       " <tf.Variable 'dense_1/bias:0' shape=(1,) dtype=float32, numpy=array([0.], dtype=float32)>]"
      ]
     },
     "execution_count": 8,
     "metadata": {},
     "output_type": "execute_result"
    }
   ],
   "source": [
    "model.weights"
   ]
  },
  {
   "cell_type": "code",
   "execution_count": 9,
   "metadata": {},
   "outputs": [],
   "source": [
    "class WeightsShaper:\n",
    "    def __init__(self, weights):\n",
    "        self.shapes=[]\n",
    "        self.lengths=[]\n",
    "        for w in weights:\n",
    "            self.shapes.append(w.numpy().shape)\n",
    "            self.lengths.append(w.numpy().reshape(-1).shape[0])\n",
    "    def flat(self, weights):\n",
    "        flatted=[]\n",
    "        for w in flatten(weights):\n",
    "            flatted+=w.numpy().reshape(-1).tolist()\n",
    "        return array(flatted)    \n",
    "    \n",
    "    def unflat(self, flatted, weights):\n",
    "        pos=0\n",
    "        for i in range(len(weights)):\n",
    "            weights[i].assign(flatted[pos:pos+self.lengths[i]].reshape(self.shapes[i]))\n",
    "            pos+=self.lengths[i]"
   ]
  },
  {
   "cell_type": "code",
   "execution_count": 10,
   "metadata": {},
   "outputs": [],
   "source": [
    "shaper=WeightsShaper(model.weights)"
   ]
  },
  {
   "cell_type": "code",
   "execution_count": 11,
   "metadata": {},
   "outputs": [],
   "source": [
    "creator.create(\"Minimalizator\", base.Fitness, weights=(-1.0,))\n",
    "creator.create(\"Individual\", list, fitness=creator.Minimalizator)"
   ]
  },
  {
   "cell_type": "code",
   "execution_count": 38,
   "metadata": {},
   "outputs": [],
   "source": [
    "def eval(individual):\n",
    "    shaper.unflat(array(individual), model.weights)\n",
    "    loss=model.evaluate(X,Y, verbose=0)\n",
    "#     loss=sum(abs(model.predict(X)-array(Y)))\n",
    "    return loss, "
   ]
  },
  {
   "cell_type": "code",
   "execution_count": 57,
   "metadata": {},
   "outputs": [],
   "source": [
    "popSize=100\n",
    "indSize=sum(shaper.lengths)"
   ]
  },
  {
   "cell_type": "code",
   "execution_count": 68,
   "metadata": {},
   "outputs": [],
   "source": [
    "toolbox = base.Toolbox()\n",
    "\n",
    "toolbox.register(\"gene\", random.uniform, -1, 1)\n",
    "\n",
    "toolbox.register(\"individual\", tools.initRepeat, creator.Individual, toolbox.gene, indSize)\n",
    "toolbox.register(\"population\", tools.initRepeat, list, toolbox.individual)\n",
    "\n",
    "toolbox.register(\"evaluate\", eval)\n",
    "toolbox.register(\"mate\", tools.cxTwoPoint)\n",
    "toolbox.register(\"mutate\", tools.mutGaussian, mu=0, sigma=1, indpb=0.05)\n",
    "toolbox.register(\"select\", tools.selTournament, tournsize=3)"
   ]
  },
  {
   "cell_type": "code",
   "execution_count": 69,
   "metadata": {},
   "outputs": [],
   "source": [
    "pop = toolbox.population(n=popSize)\n",
    "hof = tools.HallOfFame(1)\n",
    "stats = tools.Statistics(lambda ind: ind.fitness.values)\n",
    "stats.register(\"avg\", numpy.mean)\n",
    "stats.register(\"std\", numpy.std)\n",
    "stats.register(\"min\", numpy.min)\n",
    "stats.register(\"max\", numpy.max)"
   ]
  },
  {
   "cell_type": "code",
   "execution_count": 70,
   "metadata": {},
   "outputs": [
    {
     "name": "stdout",
     "output_type": "stream",
     "text": [
      "gen\tnevals\tavg     \tstd     \tmin    \tmax    \n",
      "0  \t100   \t0.789414\t0.102616\t0.65521\t1.16781\n",
      "1  \t53    \t0.744305\t0.0830385\t0.66181\t1.26037\n",
      "2  \t61    \t0.713663\t0.0484824\t0.638446\t0.893865\n",
      "3  \t62    \t0.701901\t0.0551344\t0.6298  \t0.966865\n",
      "4  \t57    \t0.683515\t0.0446232\t0.605275\t0.84947 \n",
      "5  \t60    \t0.673968\t0.0515935\t0.556875\t0.932415\n",
      "6  \t47    \t0.644758\t0.0419665\t0.556875\t0.82857 \n",
      "7  \t69    \t0.67161 \t0.108861 \t0.556875\t1.29035 \n",
      "8  \t62    \t0.618318\t0.0648846\t0.556875\t0.886947\n",
      "9  \t71    \t0.610117\t0.0959516\t0.55398 \t1.09834 \n",
      "10 \t65    \t0.574843\t0.049728 \t0.538393\t0.99931 \n",
      "11 \t53    \t0.563659\t0.0322516\t0.538393\t0.829795\n",
      "12 \t59    \t0.56204 \t0.0572973\t0.520556\t1.04966 \n",
      "13 \t62    \t0.54865 \t0.0119063\t0.486568\t0.585305\n",
      "14 \t61    \t0.54632 \t0.0426129\t0.486568\t0.925194\n",
      "15 \t60    \t0.544098\t0.0635474\t0.425577\t1.07539 \n",
      "16 \t67    \t0.533547\t0.0836772\t0.425577\t1.27594 \n",
      "17 \t55    \t0.509548\t0.0429502\t0.369519\t0.746805\n",
      "18 \t54    \t0.497737\t0.0910025\t0.372179\t1.27772 \n",
      "19 \t67    \t0.457175\t0.0493473\t0.362368\t0.660834\n",
      "20 \t71    \t0.427704\t0.0594303\t0.346053\t0.798713\n",
      "21 \t62    \t0.416131\t0.187812 \t0.345838\t2.01155 \n",
      "22 \t63    \t0.37309 \t0.0312808\t0.256619\t0.541676\n",
      "23 \t58    \t0.366682\t0.0554184\t0.256619\t0.771578\n",
      "24 \t46    \t0.35014 \t0.0643388\t0.247882\t0.907617\n",
      "25 \t61    \t0.334865\t0.0821472\t0.247882\t0.959525\n",
      "26 \t66    \t0.290028\t0.0448835\t0.190511\t0.445225\n",
      "27 \t59    \t0.284613\t0.163921 \t0.183867\t1.70954 \n",
      "28 \t60    \t0.26199 \t0.1602   \t0.165944\t1.72606 \n",
      "29 \t69    \t0.242261\t0.140782 \t0.15787 \t1.42868 \n",
      "30 \t53    \t0.222127\t0.124595 \t0.156683\t1.08015 \n",
      "31 \t52    \t0.179188\t0.0236986\t0.11269 \t0.253126\n",
      "32 \t64    \t0.168526\t0.0603903\t0.11023 \t0.677488\n",
      "33 \t69    \t0.168194\t0.0784262\t0.101609\t0.646828\n",
      "34 \t52    \t0.149465\t0.090769 \t0.0995974\t0.974667\n",
      "35 \t58    \t0.129945\t0.0728077\t0.0721621\t0.617132\n",
      "36 \t68    \t0.126456\t0.110986 \t0.0721621\t0.996268\n",
      "37 \t55    \t0.111603\t0.0809862\t0.0721621\t0.828039\n",
      "38 \t64    \t0.110267\t0.12007  \t0.0686429\t1.11313 \n",
      "39 \t67    \t0.132983\t0.214015 \t0.0666443\t1.84882 \n",
      "40 \t63    \t0.092896\t0.0400982\t0.0602992\t0.373829\n",
      "41 \t56    \t0.0917383\t0.0795995\t0.0602992\t0.650007\n",
      "42 \t59    \t0.101559 \t0.227115 \t0.0501735\t2.2843  \n",
      "43 \t54    \t0.0729405\t0.056444 \t0.0467018\t0.621976\n",
      "44 \t61    \t0.0694982\t0.0570544\t0.0466366\t0.544154\n",
      "45 \t61    \t0.0632182\t0.0454648\t0.0413103\t0.485559\n",
      "46 \t61    \t0.0785416\t0.153527 \t0.0413103\t1.15775 \n",
      "47 \t58    \t0.0607835\t0.0780586\t0.0394741\t0.788212\n",
      "48 \t57    \t0.0462872\t0.00861831\t0.0339712\t0.105377\n",
      "49 \t49    \t0.0609563\t0.161417  \t0.0336903\t1.66094 \n",
      "50 \t57    \t0.0677219\t0.118362  \t0.0252974\t0.997992\n"
     ]
    }
   ],
   "source": [
    "pop, log = algorithms.eaSimple(pop, toolbox, cxpb=0.5, mutpb=0.2, ngen=50, halloffame=hof, verbose=True, stats=stats)"
   ]
  },
  {
   "cell_type": "code",
   "execution_count": 71,
   "metadata": {},
   "outputs": [
    {
     "data": {
      "text/plain": [
       "array([[0.02571145],\n",
       "       [0.9845464 ],\n",
       "       [0.9815804 ],\n",
       "       [0.04014781]], dtype=float32)"
      ]
     },
     "execution_count": 71,
     "metadata": {},
     "output_type": "execute_result"
    }
   ],
   "source": [
    "shaper.unflat(array(hof[0]), model.weights)\n",
    "model.predict(X)"
   ]
  },
  {
   "cell_type": "code",
   "execution_count": null,
   "metadata": {},
   "outputs": [],
   "source": []
  }
 ],
 "metadata": {
  "kernelspec": {
   "display_name": "Python 3",
   "language": "python",
   "name": "python3"
  },
  "language_info": {
   "codemirror_mode": {
    "name": "ipython",
    "version": 3
   },
   "file_extension": ".py",
   "mimetype": "text/x-python",
   "name": "python",
   "nbconvert_exporter": "python",
   "pygments_lexer": "ipython3",
   "version": "3.9.0"
  }
 },
 "nbformat": 4,
 "nbformat_minor": 4
}
